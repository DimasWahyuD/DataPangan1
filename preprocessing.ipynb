{
  "nbformat": 4,
  "nbformat_minor": 0,
  "metadata": {
    "colab": {
      "name": "preprocessing.ipynb",
      "provenance": [],
      "collapsed_sections": [],
      "authorship_tag": "ABX9TyMN5MjtQcCiiBOlXsYw8xQW",
      "include_colab_link": true
    },
    "kernelspec": {
      "name": "python3",
      "display_name": "Python 3"
    },
    "language_info": {
      "name": "python"
    }
  },
  "cells": [
    {
      "cell_type": "markdown",
      "metadata": {
        "id": "view-in-github",
        "colab_type": "text"
      },
      "source": [
        "<a href=\"https://colab.research.google.com/github/DimasWahyuD/DataPangan1/blob/main/preprocessing.ipynb\" target=\"_parent\"><img src=\"https://colab.research.google.com/assets/colab-badge.svg\" alt=\"Open In Colab\"/></a>"
      ]
    },
    {
      "cell_type": "code",
      "metadata": {
        "id": "MLcaKwLUZeCV"
      },
      "source": [
        "#inputfunction\n",
        "import numpy as np\n",
        "import matplotlib.pyplot as plt\n",
        "import pandas as pd\n",
        "import chardet"
      ],
      "execution_count": 1,
      "outputs": []
    },
    {
      "cell_type": "code",
      "metadata": {
        "colab": {
          "base_uri": "https://localhost:8080/"
        },
        "id": "GMjWiZgtab40",
        "outputId": "c518db7f-ff6f-42be-8d52-03f4ece69b0b"
      },
      "source": [
        "#importdataset \n",
        "#pemanggilan Dataset \n",
        "dataset= pd.read_csv('export.csv')\n",
        "X = dataset.iloc[:,:-1].values\n",
        "Y = dataset.iloc[:,-1].values\n",
        "print(X)\n",
        "print(Y)"
      ],
      "execution_count": 2,
      "outputs": [
        {
          "output_type": "stream",
          "text": [
            "[[nan nan nan nan nan nan nan]\n",
            " ['Periode' nan '04 Maret 2021 - 12 Maret 2021' nan nan nan nan]\n",
            " ['Provinsi' nan 'Semua Provinsi' nan nan nan nan]\n",
            " ['Kabupaten/Kota' nan 'Semua Kabupaten/Kota' nan nan nan nan]\n",
            " ['Pasar' nan 'Semua Pasar' nan nan nan nan]\n",
            " ['Tipe Laporan' nan 'Laporan Harian' nan nan nan nan]\n",
            " [nan nan nan nan nan nan nan]\n",
            " ['No.' 'Komoditas(Rp)' '04/03/2021' '05/03/2021' '08/03/2021'\n",
            "  '09/03/2021' '10/03/2021']\n",
            " ['I' 'Beras' ' Rp 11,800 ' ' Rp 11,800 ' ' Rp 11,800 ' ' Rp 11,800 '\n",
            "  ' Rp 11,800 ']\n",
            " ['1' 'Beras Kualitas Bawah I (kg)' ' Rp 10,800 ' ' Rp 10,800 '\n",
            "  ' Rp 10,800 ' ' Rp 10,800 ' ' Rp 10,800 ']\n",
            " ['2' 'Beras Kualitas Bawah II (kg)' ' Rp 10,500 ' ' Rp 10,500 '\n",
            "  ' Rp 10,500 ' ' Rp 10,500 ' ' Rp 10,500 ']\n",
            " ['3' 'Beras Kualitas Medium I (kg)' ' Rp 11,800 ' ' Rp 11,850 '\n",
            "  ' Rp 11,800 ' ' Rp 11,800 ' ' Rp 11,800 ']\n",
            " ['4' 'Beras Kualitas Medium II (kg)' ' Rp 11,600 ' ' Rp 11,600 '\n",
            "  ' Rp 11,600 ' ' Rp 11,600 ' ' Rp 11,600 ']\n",
            " ['5' 'Beras Kualitas Super I (kg)' ' Rp 13,100 ' ' Rp 13,100 '\n",
            "  ' Rp 13,100 ' ' Rp 13,100 ' ' Rp 13,100 ']\n",
            " ['6' 'Beras Kualitas Super II (kg)' ' Rp 12,750 ' ' Rp 12,750 '\n",
            "  ' Rp 12,700 ' ' Rp 12,700 ' ' Rp 12,700 ']\n",
            " ['II' 'Daging Ayam' ' Rp 34,550 ' ' Rp 34,700 ' ' Rp 34,850 '\n",
            "  ' Rp 34,850 ' ' Rp 34,850 ']\n",
            " ['1' 'Daging Ayam Ras Segar (kg)' ' Rp 34,550 ' ' Rp 34,700 '\n",
            "  ' Rp 34,850 ' ' Rp 34,850 ' ' Rp 34,850 ']\n",
            " ['III' 'Daging Sapi' ' Rp 119,550 ' ' Rp 119,600 ' ' Rp 119,600 '\n",
            "  ' Rp 119,500 ' ' Rp 119,450 ']\n",
            " ['1' 'Daging Sapi Kualitas 1 (kg)' ' Rp 123,250 ' ' Rp 123,300 '\n",
            "  ' Rp 123,250 ' ' Rp 123,150 ' ' Rp 123,100 ']\n",
            " ['2' 'Daging Sapi Kualitas 2 (kg)' ' Rp 113,800 ' ' Rp 113,850 '\n",
            "  ' Rp 114,000 ' ' Rp 113,900 ' ' Rp 113,850 ']\n",
            " ['IV' 'Telur Ayam' ' Rp 25,750 ' ' Rp 25,750 ' ' Rp 25,700 '\n",
            "  ' Rp 25,750 ' ' Rp 25,700 ']\n",
            " ['1' 'Telur Ayam Ras Segar\\n (kg)' ' Rp 25,750 ' ' Rp 25,750 '\n",
            "  ' Rp 25,700 ' ' Rp 25,750 ' ' Rp 25,700 ']\n",
            " ['V' 'Bawang Merah' ' Rp 34,750 ' ' Rp 34,800 ' ' Rp 35,200 '\n",
            "  ' Rp 35,250 ' ' Rp 35,200 ']\n",
            " ['1' 'Bawang Merah Ukuran Sedang (kg)' ' Rp 34,750 ' ' Rp 34,800 '\n",
            "  ' Rp 35,200 ' ' Rp 35,250 ' ' Rp 35,200 ']\n",
            " ['VI' 'Bawang Putih' ' Rp 29,600 ' ' Rp 29,500 ' ' Rp 29,450 '\n",
            "  ' Rp 29,550 ' ' Rp 29,500 ']\n",
            " ['1' 'Bawang Putih Ukuran Sedang (kg)' ' Rp 29,600 ' ' Rp 29,500 '\n",
            "  ' Rp 29,450 ' ' Rp 29,550 ' ' Rp 29,500 ']\n",
            " ['VII' 'Cabai Merah' ' Rp 47,200 ' ' Rp 47,550 ' ' Rp 47,950 '\n",
            "  ' Rp 48,400 ' ' Rp 48,300 ']\n",
            " ['1' 'Cabai Merah Besar (kg)' ' Rp 46,200 ' ' Rp 46,700 ' ' Rp 47,150 '\n",
            "  ' Rp 47,150 ' ' Rp 46,750 ']\n",
            " ['2' 'Cabai Merah Keriting  (kg)' ' Rp 48,800 ' ' Rp 49,000 '\n",
            "  ' Rp 49,300 ' ' Rp 49,850 ' ' Rp 49,850 ']\n",
            " ['VIII' 'Cabai Rawit' ' Rp 78,000 ' ' Rp 78,300 ' ' Rp 77,300 '\n",
            "  ' Rp 77,450 ' ' Rp 77,850 ']\n",
            " ['1' 'Cabai Rawit Hijau (kg)' ' Rp 61,550 ' ' Rp 62,950 ' ' Rp 61,250 '\n",
            "  ' Rp 61,150 ' ' Rp 61,450 ']\n",
            " ['2' 'Cabai Rawit Merah (kg)' ' Rp 94,150 ' ' Rp 94,350 ' ' Rp 93,700 '\n",
            "  ' Rp 94,100 ' ' Rp 94,550 ']\n",
            " ['IX' 'Minyak Goreng' ' Rp 14,550 ' ' Rp 14,550 ' ' Rp 14,600 '\n",
            "  ' Rp 14,600 ' ' Rp 14,600 ']\n",
            " ['1' 'Minyak Goreng Curah (kg)' ' Rp 13,650 ' ' Rp 13,650 '\n",
            "  ' Rp 13,700 ' ' Rp 13,700 ' ' Rp 13,700 ']\n",
            " ['2' 'Minyak Goreng Kemasan Bermerk 1 (kg)' ' Rp 15,200 ' ' Rp 15,200 '\n",
            "  ' Rp 15,200 ' ' Rp 15,200 ' ' Rp 15,200 ']\n",
            " ['3' 'Minyak Goreng Kemasan Bermerk 2 (kg)' ' Rp 14,550 ' ' Rp 14,550 '\n",
            "  ' Rp 14,600 ' ' Rp 14,600 ' ' Rp 14,600 ']\n",
            " ['X' 'Gula Pasir' ' Rp 14,300 ' ' Rp 14,300 ' ' Rp 14,300 '\n",
            "  ' Rp 14,300 ' ' Rp 14,300 ']\n",
            " ['1' 'Gula Pasir Kualitas Premium (kg)' ' Rp 15,600 ' ' Rp 15,600 '\n",
            "  ' Rp 15,600 ' ' Rp 15,600 ' ' Rp 15,600 ']\n",
            " ['2' 'Gula Pasir Lokal (kg)' ' Rp 13,450 ' ' Rp 13,400 ' ' Rp 13,400 '\n",
            "  ' Rp 13,400 ' ' Rp 13,400 ']]\n",
            "[nan nan nan nan nan nan nan '12/03/2021' ' Rp 11,800 ' ' Rp 10,800 '\n",
            " ' Rp 10,500 ' ' Rp 11,850 ' ' Rp 11,650 ' ' Rp 13,100 ' ' Rp 12,750 '\n",
            " ' Rp 35,050 ' ' Rp 35,050 ' ' Rp 119,300 ' ' Rp 123,000 ' ' Rp 113,600 '\n",
            " ' Rp 25,700 ' ' Rp 25,700 ' ' Rp 35,300 ' ' Rp 35,300 ' ' Rp 29,400 '\n",
            " ' Rp 29,400 ' ' Rp 48,650 ' ' Rp 47,100 ' ' Rp 50,300 ' ' Rp 77,100 '\n",
            " ' Rp 59,750 ' ' Rp 95,100 ' ' Rp 14,550 ' ' Rp 13,650 ' ' Rp 15,200 '\n",
            " ' Rp 14,600 ' ' Rp 14,250 ' ' Rp 15,550 ' ' Rp 13,400 ']\n"
          ],
          "name": "stdout"
        }
      ]
    },
    {
      "cell_type": "code",
      "metadata": {
        "colab": {
          "base_uri": "https://localhost:8080/",
          "height": 433
        },
        "id": "n44CIrcUagnA",
        "outputId": "e479182b-1c54-4263-8a9d-ec86c7c58ed0"
      },
      "source": [
        "#Menghilangkan  missing value\n",
        "from sklearn.impute import SimpleImputer\n",
        "imputer = SimpleImputer(missing_values=np.nan, strategy='mean')\n",
        "X[:, 1:3] = imputer.transform(X[:, 1:3])\n",
        "#missing values = nilai data yang digunakan sebagai penanda bahwa nilai aslinya tidak ada \n",
        "#strategy : menggunakan rata-rata kolom mean bisa juga menggunakan median, most_frequent(modus) atau constant"
      ],
      "execution_count": 3,
      "outputs": [
        {
          "output_type": "error",
          "ename": "NotFittedError",
          "evalue": "ignored",
          "traceback": [
            "\u001b[0;31m---------------------------------------------------------------------------\u001b[0m",
            "\u001b[0;31mNotFittedError\u001b[0m                            Traceback (most recent call last)",
            "\u001b[0;32m<ipython-input-3-eced6cc7cd55>\u001b[0m in \u001b[0;36m<module>\u001b[0;34m()\u001b[0m\n\u001b[1;32m      2\u001b[0m \u001b[0;32mfrom\u001b[0m \u001b[0msklearn\u001b[0m\u001b[0;34m.\u001b[0m\u001b[0mimpute\u001b[0m \u001b[0;32mimport\u001b[0m \u001b[0mSimpleImputer\u001b[0m\u001b[0;34m\u001b[0m\u001b[0;34m\u001b[0m\u001b[0m\n\u001b[1;32m      3\u001b[0m \u001b[0mimputer\u001b[0m \u001b[0;34m=\u001b[0m \u001b[0mSimpleImputer\u001b[0m\u001b[0;34m(\u001b[0m\u001b[0mmissing_values\u001b[0m\u001b[0;34m=\u001b[0m\u001b[0mnp\u001b[0m\u001b[0;34m.\u001b[0m\u001b[0mnan\u001b[0m\u001b[0;34m,\u001b[0m \u001b[0mstrategy\u001b[0m\u001b[0;34m=\u001b[0m\u001b[0;34m'mean'\u001b[0m\u001b[0;34m)\u001b[0m\u001b[0;34m\u001b[0m\u001b[0;34m\u001b[0m\u001b[0m\n\u001b[0;32m----> 4\u001b[0;31m \u001b[0mX\u001b[0m\u001b[0;34m[\u001b[0m\u001b[0;34m:\u001b[0m\u001b[0;34m,\u001b[0m \u001b[0;36m1\u001b[0m\u001b[0;34m:\u001b[0m\u001b[0;36m3\u001b[0m\u001b[0;34m]\u001b[0m \u001b[0;34m=\u001b[0m \u001b[0mimputer\u001b[0m\u001b[0;34m.\u001b[0m\u001b[0mtransform\u001b[0m\u001b[0;34m(\u001b[0m\u001b[0mX\u001b[0m\u001b[0;34m[\u001b[0m\u001b[0;34m:\u001b[0m\u001b[0;34m,\u001b[0m \u001b[0;36m1\u001b[0m\u001b[0;34m:\u001b[0m\u001b[0;36m3\u001b[0m\u001b[0;34m]\u001b[0m\u001b[0;34m)\u001b[0m\u001b[0;34m\u001b[0m\u001b[0;34m\u001b[0m\u001b[0m\n\u001b[0m\u001b[1;32m      5\u001b[0m \u001b[0;31m#missing values = nilai data yang digunakan sebagai penanda bahwa nilai aslinya tidak ada\u001b[0m\u001b[0;34m\u001b[0m\u001b[0;34m\u001b[0m\u001b[0;34m\u001b[0m\u001b[0m\n\u001b[1;32m      6\u001b[0m \u001b[0;31m#strategy : menggunakan rata-rata kolom mean bisa juga menggunakan median, most_frequent(modus) atau constant\u001b[0m\u001b[0;34m\u001b[0m\u001b[0;34m\u001b[0m\u001b[0;34m\u001b[0m\u001b[0m\n",
            "\u001b[0;32m/usr/local/lib/python3.7/dist-packages/sklearn/impute/_base.py\u001b[0m in \u001b[0;36mtransform\u001b[0;34m(self, X)\u001b[0m\n\u001b[1;32m    402\u001b[0m             \u001b[0mThe\u001b[0m \u001b[0minput\u001b[0m \u001b[0mdata\u001b[0m \u001b[0mto\u001b[0m \u001b[0mcomplete\u001b[0m\u001b[0;34m.\u001b[0m\u001b[0;34m\u001b[0m\u001b[0;34m\u001b[0m\u001b[0m\n\u001b[1;32m    403\u001b[0m         \"\"\"\n\u001b[0;32m--> 404\u001b[0;31m         \u001b[0mcheck_is_fitted\u001b[0m\u001b[0;34m(\u001b[0m\u001b[0mself\u001b[0m\u001b[0;34m)\u001b[0m\u001b[0;34m\u001b[0m\u001b[0;34m\u001b[0m\u001b[0m\n\u001b[0m\u001b[1;32m    405\u001b[0m \u001b[0;34m\u001b[0m\u001b[0m\n\u001b[1;32m    406\u001b[0m         \u001b[0mX\u001b[0m \u001b[0;34m=\u001b[0m \u001b[0mself\u001b[0m\u001b[0;34m.\u001b[0m\u001b[0m_validate_input\u001b[0m\u001b[0;34m(\u001b[0m\u001b[0mX\u001b[0m\u001b[0;34m)\u001b[0m\u001b[0;34m\u001b[0m\u001b[0;34m\u001b[0m\u001b[0m\n",
            "\u001b[0;32m/usr/local/lib/python3.7/dist-packages/sklearn/utils/validation.py\u001b[0m in \u001b[0;36mcheck_is_fitted\u001b[0;34m(estimator, attributes, msg, all_or_any)\u001b[0m\n\u001b[1;32m    965\u001b[0m \u001b[0;34m\u001b[0m\u001b[0m\n\u001b[1;32m    966\u001b[0m     \u001b[0;32mif\u001b[0m \u001b[0;32mnot\u001b[0m \u001b[0mattrs\u001b[0m\u001b[0;34m:\u001b[0m\u001b[0;34m\u001b[0m\u001b[0;34m\u001b[0m\u001b[0m\n\u001b[0;32m--> 967\u001b[0;31m         \u001b[0;32mraise\u001b[0m \u001b[0mNotFittedError\u001b[0m\u001b[0;34m(\u001b[0m\u001b[0mmsg\u001b[0m \u001b[0;34m%\u001b[0m \u001b[0;34m{\u001b[0m\u001b[0;34m'name'\u001b[0m\u001b[0;34m:\u001b[0m \u001b[0mtype\u001b[0m\u001b[0;34m(\u001b[0m\u001b[0mestimator\u001b[0m\u001b[0;34m)\u001b[0m\u001b[0;34m.\u001b[0m\u001b[0m__name__\u001b[0m\u001b[0;34m}\u001b[0m\u001b[0;34m)\u001b[0m\u001b[0;34m\u001b[0m\u001b[0;34m\u001b[0m\u001b[0m\n\u001b[0m\u001b[1;32m    968\u001b[0m \u001b[0;34m\u001b[0m\u001b[0m\n\u001b[1;32m    969\u001b[0m \u001b[0;34m\u001b[0m\u001b[0m\n",
            "\u001b[0;31mNotFittedError\u001b[0m: This SimpleImputer instance is not fitted yet. Call 'fit' with appropriate arguments before using this estimator."
          ]
        }
      ]
    },
    {
      "cell_type": "code",
      "metadata": {
        "colab": {
          "base_uri": "https://localhost:8080/"
        },
        "id": "ZRTg1p4LaqZO",
        "outputId": "26c3cd9a-a0d8-42a8-9bf4-2be2735d469f"
      },
      "source": [
        "print(X)"
      ],
      "execution_count": 4,
      "outputs": [
        {
          "output_type": "stream",
          "text": [
            "[[nan nan nan nan nan nan nan]\n",
            " ['Periode' nan '04 Maret 2021 - 12 Maret 2021' nan nan nan nan]\n",
            " ['Provinsi' nan 'Semua Provinsi' nan nan nan nan]\n",
            " ['Kabupaten/Kota' nan 'Semua Kabupaten/Kota' nan nan nan nan]\n",
            " ['Pasar' nan 'Semua Pasar' nan nan nan nan]\n",
            " ['Tipe Laporan' nan 'Laporan Harian' nan nan nan nan]\n",
            " [nan nan nan nan nan nan nan]\n",
            " ['No.' 'Komoditas(Rp)' '04/03/2021' '05/03/2021' '08/03/2021'\n",
            "  '09/03/2021' '10/03/2021']\n",
            " ['I' 'Beras' ' Rp 11,800 ' ' Rp 11,800 ' ' Rp 11,800 ' ' Rp 11,800 '\n",
            "  ' Rp 11,800 ']\n",
            " ['1' 'Beras Kualitas Bawah I (kg)' ' Rp 10,800 ' ' Rp 10,800 '\n",
            "  ' Rp 10,800 ' ' Rp 10,800 ' ' Rp 10,800 ']\n",
            " ['2' 'Beras Kualitas Bawah II (kg)' ' Rp 10,500 ' ' Rp 10,500 '\n",
            "  ' Rp 10,500 ' ' Rp 10,500 ' ' Rp 10,500 ']\n",
            " ['3' 'Beras Kualitas Medium I (kg)' ' Rp 11,800 ' ' Rp 11,850 '\n",
            "  ' Rp 11,800 ' ' Rp 11,800 ' ' Rp 11,800 ']\n",
            " ['4' 'Beras Kualitas Medium II (kg)' ' Rp 11,600 ' ' Rp 11,600 '\n",
            "  ' Rp 11,600 ' ' Rp 11,600 ' ' Rp 11,600 ']\n",
            " ['5' 'Beras Kualitas Super I (kg)' ' Rp 13,100 ' ' Rp 13,100 '\n",
            "  ' Rp 13,100 ' ' Rp 13,100 ' ' Rp 13,100 ']\n",
            " ['6' 'Beras Kualitas Super II (kg)' ' Rp 12,750 ' ' Rp 12,750 '\n",
            "  ' Rp 12,700 ' ' Rp 12,700 ' ' Rp 12,700 ']\n",
            " ['II' 'Daging Ayam' ' Rp 34,550 ' ' Rp 34,700 ' ' Rp 34,850 '\n",
            "  ' Rp 34,850 ' ' Rp 34,850 ']\n",
            " ['1' 'Daging Ayam Ras Segar (kg)' ' Rp 34,550 ' ' Rp 34,700 '\n",
            "  ' Rp 34,850 ' ' Rp 34,850 ' ' Rp 34,850 ']\n",
            " ['III' 'Daging Sapi' ' Rp 119,550 ' ' Rp 119,600 ' ' Rp 119,600 '\n",
            "  ' Rp 119,500 ' ' Rp 119,450 ']\n",
            " ['1' 'Daging Sapi Kualitas 1 (kg)' ' Rp 123,250 ' ' Rp 123,300 '\n",
            "  ' Rp 123,250 ' ' Rp 123,150 ' ' Rp 123,100 ']\n",
            " ['2' 'Daging Sapi Kualitas 2 (kg)' ' Rp 113,800 ' ' Rp 113,850 '\n",
            "  ' Rp 114,000 ' ' Rp 113,900 ' ' Rp 113,850 ']\n",
            " ['IV' 'Telur Ayam' ' Rp 25,750 ' ' Rp 25,750 ' ' Rp 25,700 '\n",
            "  ' Rp 25,750 ' ' Rp 25,700 ']\n",
            " ['1' 'Telur Ayam Ras Segar\\n (kg)' ' Rp 25,750 ' ' Rp 25,750 '\n",
            "  ' Rp 25,700 ' ' Rp 25,750 ' ' Rp 25,700 ']\n",
            " ['V' 'Bawang Merah' ' Rp 34,750 ' ' Rp 34,800 ' ' Rp 35,200 '\n",
            "  ' Rp 35,250 ' ' Rp 35,200 ']\n",
            " ['1' 'Bawang Merah Ukuran Sedang (kg)' ' Rp 34,750 ' ' Rp 34,800 '\n",
            "  ' Rp 35,200 ' ' Rp 35,250 ' ' Rp 35,200 ']\n",
            " ['VI' 'Bawang Putih' ' Rp 29,600 ' ' Rp 29,500 ' ' Rp 29,450 '\n",
            "  ' Rp 29,550 ' ' Rp 29,500 ']\n",
            " ['1' 'Bawang Putih Ukuran Sedang (kg)' ' Rp 29,600 ' ' Rp 29,500 '\n",
            "  ' Rp 29,450 ' ' Rp 29,550 ' ' Rp 29,500 ']\n",
            " ['VII' 'Cabai Merah' ' Rp 47,200 ' ' Rp 47,550 ' ' Rp 47,950 '\n",
            "  ' Rp 48,400 ' ' Rp 48,300 ']\n",
            " ['1' 'Cabai Merah Besar (kg)' ' Rp 46,200 ' ' Rp 46,700 ' ' Rp 47,150 '\n",
            "  ' Rp 47,150 ' ' Rp 46,750 ']\n",
            " ['2' 'Cabai Merah Keriting  (kg)' ' Rp 48,800 ' ' Rp 49,000 '\n",
            "  ' Rp 49,300 ' ' Rp 49,850 ' ' Rp 49,850 ']\n",
            " ['VIII' 'Cabai Rawit' ' Rp 78,000 ' ' Rp 78,300 ' ' Rp 77,300 '\n",
            "  ' Rp 77,450 ' ' Rp 77,850 ']\n",
            " ['1' 'Cabai Rawit Hijau (kg)' ' Rp 61,550 ' ' Rp 62,950 ' ' Rp 61,250 '\n",
            "  ' Rp 61,150 ' ' Rp 61,450 ']\n",
            " ['2' 'Cabai Rawit Merah (kg)' ' Rp 94,150 ' ' Rp 94,350 ' ' Rp 93,700 '\n",
            "  ' Rp 94,100 ' ' Rp 94,550 ']\n",
            " ['IX' 'Minyak Goreng' ' Rp 14,550 ' ' Rp 14,550 ' ' Rp 14,600 '\n",
            "  ' Rp 14,600 ' ' Rp 14,600 ']\n",
            " ['1' 'Minyak Goreng Curah (kg)' ' Rp 13,650 ' ' Rp 13,650 '\n",
            "  ' Rp 13,700 ' ' Rp 13,700 ' ' Rp 13,700 ']\n",
            " ['2' 'Minyak Goreng Kemasan Bermerk 1 (kg)' ' Rp 15,200 ' ' Rp 15,200 '\n",
            "  ' Rp 15,200 ' ' Rp 15,200 ' ' Rp 15,200 ']\n",
            " ['3' 'Minyak Goreng Kemasan Bermerk 2 (kg)' ' Rp 14,550 ' ' Rp 14,550 '\n",
            "  ' Rp 14,600 ' ' Rp 14,600 ' ' Rp 14,600 ']\n",
            " ['X' 'Gula Pasir' ' Rp 14,300 ' ' Rp 14,300 ' ' Rp 14,300 '\n",
            "  ' Rp 14,300 ' ' Rp 14,300 ']\n",
            " ['1' 'Gula Pasir Kualitas Premium (kg)' ' Rp 15,600 ' ' Rp 15,600 '\n",
            "  ' Rp 15,600 ' ' Rp 15,600 ' ' Rp 15,600 ']\n",
            " ['2' 'Gula Pasir Lokal (kg)' ' Rp 13,450 ' ' Rp 13,400 ' ' Rp 13,400 '\n",
            "  ' Rp 13,400 ' ' Rp 13,400 ']]\n"
          ],
          "name": "stdout"
        }
      ]
    },
    {
      "cell_type": "code",
      "metadata": {
        "colab": {
          "base_uri": "https://localhost:8080/"
        },
        "id": "bZmo6JJva6GN",
        "outputId": "14f8af6d-9ee7-421c-f614-aaa1eab325fb"
      },
      "source": [
        "#Membagi dataset ke dalam training set dan test set\n",
        "from sklearn.model_selection import train_test_split\n",
        "X_train, X_test, Y_train, Y_test = train_test_split(X, Y, test_size = 0.2, random_state =1)\n",
        "print(X_train)\n",
        "print(X_test)\n",
        "print(Y_train)\n",
        "print(Y_test)"
      ],
      "execution_count": 7,
      "outputs": [
        {
          "output_type": "stream",
          "text": [
            "[['2' 'Daging Sapi Kualitas 2 (kg)' ' Rp 113,800 ' ' Rp 113,850 '\n",
            "  ' Rp 114,000 ' ' Rp 113,900 ' ' Rp 113,850 ']\n",
            " ['1' 'Bawang Putih Ukuran Sedang (kg)' ' Rp 29,600 ' ' Rp 29,500 '\n",
            "  ' Rp 29,450 ' ' Rp 29,550 ' ' Rp 29,500 ']\n",
            " ['2' 'Cabai Rawit Merah (kg)' ' Rp 94,150 ' ' Rp 94,350 ' ' Rp 93,700 '\n",
            "  ' Rp 94,100 ' ' Rp 94,550 ']\n",
            " ['III' 'Daging Sapi' ' Rp 119,550 ' ' Rp 119,600 ' ' Rp 119,600 '\n",
            "  ' Rp 119,500 ' ' Rp 119,450 ']\n",
            " ['VIII' 'Cabai Rawit' ' Rp 78,000 ' ' Rp 78,300 ' ' Rp 77,300 '\n",
            "  ' Rp 77,450 ' ' Rp 77,850 ']\n",
            " ['3' 'Minyak Goreng Kemasan Bermerk 2 (kg)' ' Rp 14,550 ' ' Rp 14,550 '\n",
            "  ' Rp 14,600 ' ' Rp 14,600 ' ' Rp 14,600 ']\n",
            " ['IX' 'Minyak Goreng' ' Rp 14,550 ' ' Rp 14,550 ' ' Rp 14,600 '\n",
            "  ' Rp 14,600 ' ' Rp 14,600 ']\n",
            " ['1' 'Cabai Merah Besar (kg)' ' Rp 46,200 ' ' Rp 46,700 ' ' Rp 47,150 '\n",
            "  ' Rp 47,150 ' ' Rp 46,750 ']\n",
            " ['Pasar' nan 'Semua Pasar' nan nan nan nan]\n",
            " ['6' 'Beras Kualitas Super II (kg)' ' Rp 12,750 ' ' Rp 12,750 '\n",
            "  ' Rp 12,700 ' ' Rp 12,700 ' ' Rp 12,700 ']\n",
            " ['2' 'Beras Kualitas Bawah II (kg)' ' Rp 10,500 ' ' Rp 10,500 '\n",
            "  ' Rp 10,500 ' ' Rp 10,500 ' ' Rp 10,500 ']\n",
            " ['2' 'Minyak Goreng Kemasan Bermerk 1 (kg)' ' Rp 15,200 ' ' Rp 15,200 '\n",
            "  ' Rp 15,200 ' ' Rp 15,200 ' ' Rp 15,200 ']\n",
            " ['1' 'Bawang Merah Ukuran Sedang (kg)' ' Rp 34,750 ' ' Rp 34,800 '\n",
            "  ' Rp 35,200 ' ' Rp 35,250 ' ' Rp 35,200 ']\n",
            " ['VI' 'Bawang Putih' ' Rp 29,600 ' ' Rp 29,500 ' ' Rp 29,450 '\n",
            "  ' Rp 29,550 ' ' Rp 29,500 ']\n",
            " ['1' 'Minyak Goreng Curah (kg)' ' Rp 13,650 ' ' Rp 13,650 '\n",
            "  ' Rp 13,700 ' ' Rp 13,700 ' ' Rp 13,700 ']\n",
            " ['IV' 'Telur Ayam' ' Rp 25,750 ' ' Rp 25,750 ' ' Rp 25,700 '\n",
            "  ' Rp 25,750 ' ' Rp 25,700 ']\n",
            " ['1' 'Daging Sapi Kualitas 1 (kg)' ' Rp 123,250 ' ' Rp 123,300 '\n",
            "  ' Rp 123,250 ' ' Rp 123,150 ' ' Rp 123,100 ']\n",
            " [nan nan nan nan nan nan nan]\n",
            " ['5' 'Beras Kualitas Super I (kg)' ' Rp 13,100 ' ' Rp 13,100 '\n",
            "  ' Rp 13,100 ' ' Rp 13,100 ' ' Rp 13,100 ']\n",
            " ['No.' 'Komoditas(Rp)' '04/03/2021' '05/03/2021' '08/03/2021'\n",
            "  '09/03/2021' '10/03/2021']\n",
            " ['2' 'Gula Pasir Lokal (kg)' ' Rp 13,450 ' ' Rp 13,400 ' ' Rp 13,400 '\n",
            "  ' Rp 13,400 ' ' Rp 13,400 ']\n",
            " ['Periode' nan '04 Maret 2021 - 12 Maret 2021' nan nan nan nan]\n",
            " ['1' 'Daging Ayam Ras Segar (kg)' ' Rp 34,550 ' ' Rp 34,700 '\n",
            "  ' Rp 34,850 ' ' Rp 34,850 ' ' Rp 34,850 ']\n",
            " [nan nan nan nan nan nan nan]\n",
            " ['II' 'Daging Ayam' ' Rp 34,550 ' ' Rp 34,700 ' ' Rp 34,850 '\n",
            "  ' Rp 34,850 ' ' Rp 34,850 ']\n",
            " ['Tipe Laporan' nan 'Laporan Harian' nan nan nan nan]\n",
            " ['3' 'Beras Kualitas Medium I (kg)' ' Rp 11,800 ' ' Rp 11,850 '\n",
            "  ' Rp 11,800 ' ' Rp 11,800 ' ' Rp 11,800 ']\n",
            " ['1' 'Beras Kualitas Bawah I (kg)' ' Rp 10,800 ' ' Rp 10,800 '\n",
            "  ' Rp 10,800 ' ' Rp 10,800 ' ' Rp 10,800 ']\n",
            " ['I' 'Beras' ' Rp 11,800 ' ' Rp 11,800 ' ' Rp 11,800 ' ' Rp 11,800 '\n",
            "  ' Rp 11,800 ']\n",
            " ['4' 'Beras Kualitas Medium II (kg)' ' Rp 11,600 ' ' Rp 11,600 '\n",
            "  ' Rp 11,600 ' ' Rp 11,600 ' ' Rp 11,600 ']\n",
            " ['1' 'Gula Pasir Kualitas Premium (kg)' ' Rp 15,600 ' ' Rp 15,600 '\n",
            "  ' Rp 15,600 ' ' Rp 15,600 ' ' Rp 15,600 ']]\n",
            "[['Provinsi' nan 'Semua Provinsi' nan nan nan nan]\n",
            " ['1' 'Cabai Rawit Hijau (kg)' ' Rp 61,550 ' ' Rp 62,950 ' ' Rp 61,250 '\n",
            "  ' Rp 61,150 ' ' Rp 61,450 ']\n",
            " ['Kabupaten/Kota' nan 'Semua Kabupaten/Kota' nan nan nan nan]\n",
            " ['1' 'Telur Ayam Ras Segar\\n (kg)' ' Rp 25,750 ' ' Rp 25,750 '\n",
            "  ' Rp 25,700 ' ' Rp 25,750 ' ' Rp 25,700 ']\n",
            " ['VII' 'Cabai Merah' ' Rp 47,200 ' ' Rp 47,550 ' ' Rp 47,950 '\n",
            "  ' Rp 48,400 ' ' Rp 48,300 ']\n",
            " ['2' 'Cabai Merah Keriting  (kg)' ' Rp 48,800 ' ' Rp 49,000 '\n",
            "  ' Rp 49,300 ' ' Rp 49,850 ' ' Rp 49,850 ']\n",
            " ['V' 'Bawang Merah' ' Rp 34,750 ' ' Rp 34,800 ' ' Rp 35,200 '\n",
            "  ' Rp 35,250 ' ' Rp 35,200 ']\n",
            " ['X' 'Gula Pasir' ' Rp 14,300 ' ' Rp 14,300 ' ' Rp 14,300 '\n",
            "  ' Rp 14,300 ' ' Rp 14,300 ']]\n",
            "[' Rp 113,600 ' ' Rp 29,400 ' ' Rp 95,100 ' ' Rp 119,300 ' ' Rp 77,100 '\n",
            " ' Rp 14,600 ' ' Rp 14,550 ' ' Rp 47,100 ' nan ' Rp 12,750 ' ' Rp 10,500 '\n",
            " ' Rp 15,200 ' ' Rp 35,300 ' ' Rp 29,400 ' ' Rp 13,650 ' ' Rp 25,700 '\n",
            " ' Rp 123,000 ' nan ' Rp 13,100 ' '12/03/2021' ' Rp 13,400 ' nan\n",
            " ' Rp 35,050 ' nan ' Rp 35,050 ' nan ' Rp 11,850 ' ' Rp 10,800 '\n",
            " ' Rp 11,800 ' ' Rp 11,650 ' ' Rp 15,550 ']\n",
            "[nan ' Rp 59,750 ' nan ' Rp 25,700 ' ' Rp 48,650 ' ' Rp 50,300 '\n",
            " ' Rp 35,300 ' ' Rp 14,250 ']\n"
          ],
          "name": "stdout"
        }
      ]
    },
    {
      "cell_type": "code",
      "metadata": {
        "colab": {
          "base_uri": "https://localhost:8080/"
        },
        "id": "EN4OUTy3bDLE",
        "outputId": "a063657b-04bc-47ec-8961-28ac1e971180"
      },
      "source": [
        "print(X_train)\n",
        "print(X_test)"
      ],
      "execution_count": 9,
      "outputs": [
        {
          "output_type": "stream",
          "text": [
            "[['2' 'Daging Sapi Kualitas 2 (kg)' ' Rp 113,800 ' ' Rp 113,850 '\n",
            "  ' Rp 114,000 ' ' Rp 113,900 ' ' Rp 113,850 ']\n",
            " ['1' 'Bawang Putih Ukuran Sedang (kg)' ' Rp 29,600 ' ' Rp 29,500 '\n",
            "  ' Rp 29,450 ' ' Rp 29,550 ' ' Rp 29,500 ']\n",
            " ['2' 'Cabai Rawit Merah (kg)' ' Rp 94,150 ' ' Rp 94,350 ' ' Rp 93,700 '\n",
            "  ' Rp 94,100 ' ' Rp 94,550 ']\n",
            " ['III' 'Daging Sapi' ' Rp 119,550 ' ' Rp 119,600 ' ' Rp 119,600 '\n",
            "  ' Rp 119,500 ' ' Rp 119,450 ']\n",
            " ['VIII' 'Cabai Rawit' ' Rp 78,000 ' ' Rp 78,300 ' ' Rp 77,300 '\n",
            "  ' Rp 77,450 ' ' Rp 77,850 ']\n",
            " ['3' 'Minyak Goreng Kemasan Bermerk 2 (kg)' ' Rp 14,550 ' ' Rp 14,550 '\n",
            "  ' Rp 14,600 ' ' Rp 14,600 ' ' Rp 14,600 ']\n",
            " ['IX' 'Minyak Goreng' ' Rp 14,550 ' ' Rp 14,550 ' ' Rp 14,600 '\n",
            "  ' Rp 14,600 ' ' Rp 14,600 ']\n",
            " ['1' 'Cabai Merah Besar (kg)' ' Rp 46,200 ' ' Rp 46,700 ' ' Rp 47,150 '\n",
            "  ' Rp 47,150 ' ' Rp 46,750 ']\n",
            " ['Pasar' nan 'Semua Pasar' nan nan nan nan]\n",
            " ['6' 'Beras Kualitas Super II (kg)' ' Rp 12,750 ' ' Rp 12,750 '\n",
            "  ' Rp 12,700 ' ' Rp 12,700 ' ' Rp 12,700 ']\n",
            " ['2' 'Beras Kualitas Bawah II (kg)' ' Rp 10,500 ' ' Rp 10,500 '\n",
            "  ' Rp 10,500 ' ' Rp 10,500 ' ' Rp 10,500 ']\n",
            " ['2' 'Minyak Goreng Kemasan Bermerk 1 (kg)' ' Rp 15,200 ' ' Rp 15,200 '\n",
            "  ' Rp 15,200 ' ' Rp 15,200 ' ' Rp 15,200 ']\n",
            " ['1' 'Bawang Merah Ukuran Sedang (kg)' ' Rp 34,750 ' ' Rp 34,800 '\n",
            "  ' Rp 35,200 ' ' Rp 35,250 ' ' Rp 35,200 ']\n",
            " ['VI' 'Bawang Putih' ' Rp 29,600 ' ' Rp 29,500 ' ' Rp 29,450 '\n",
            "  ' Rp 29,550 ' ' Rp 29,500 ']\n",
            " ['1' 'Minyak Goreng Curah (kg)' ' Rp 13,650 ' ' Rp 13,650 '\n",
            "  ' Rp 13,700 ' ' Rp 13,700 ' ' Rp 13,700 ']\n",
            " ['IV' 'Telur Ayam' ' Rp 25,750 ' ' Rp 25,750 ' ' Rp 25,700 '\n",
            "  ' Rp 25,750 ' ' Rp 25,700 ']\n",
            " ['1' 'Daging Sapi Kualitas 1 (kg)' ' Rp 123,250 ' ' Rp 123,300 '\n",
            "  ' Rp 123,250 ' ' Rp 123,150 ' ' Rp 123,100 ']\n",
            " [nan nan nan nan nan nan nan]\n",
            " ['5' 'Beras Kualitas Super I (kg)' ' Rp 13,100 ' ' Rp 13,100 '\n",
            "  ' Rp 13,100 ' ' Rp 13,100 ' ' Rp 13,100 ']\n",
            " ['No.' 'Komoditas(Rp)' '04/03/2021' '05/03/2021' '08/03/2021'\n",
            "  '09/03/2021' '10/03/2021']\n",
            " ['2' 'Gula Pasir Lokal (kg)' ' Rp 13,450 ' ' Rp 13,400 ' ' Rp 13,400 '\n",
            "  ' Rp 13,400 ' ' Rp 13,400 ']\n",
            " ['Periode' nan '04 Maret 2021 - 12 Maret 2021' nan nan nan nan]\n",
            " ['1' 'Daging Ayam Ras Segar (kg)' ' Rp 34,550 ' ' Rp 34,700 '\n",
            "  ' Rp 34,850 ' ' Rp 34,850 ' ' Rp 34,850 ']\n",
            " [nan nan nan nan nan nan nan]\n",
            " ['II' 'Daging Ayam' ' Rp 34,550 ' ' Rp 34,700 ' ' Rp 34,850 '\n",
            "  ' Rp 34,850 ' ' Rp 34,850 ']\n",
            " ['Tipe Laporan' nan 'Laporan Harian' nan nan nan nan]\n",
            " ['3' 'Beras Kualitas Medium I (kg)' ' Rp 11,800 ' ' Rp 11,850 '\n",
            "  ' Rp 11,800 ' ' Rp 11,800 ' ' Rp 11,800 ']\n",
            " ['1' 'Beras Kualitas Bawah I (kg)' ' Rp 10,800 ' ' Rp 10,800 '\n",
            "  ' Rp 10,800 ' ' Rp 10,800 ' ' Rp 10,800 ']\n",
            " ['I' 'Beras' ' Rp 11,800 ' ' Rp 11,800 ' ' Rp 11,800 ' ' Rp 11,800 '\n",
            "  ' Rp 11,800 ']\n",
            " ['4' 'Beras Kualitas Medium II (kg)' ' Rp 11,600 ' ' Rp 11,600 '\n",
            "  ' Rp 11,600 ' ' Rp 11,600 ' ' Rp 11,600 ']\n",
            " ['1' 'Gula Pasir Kualitas Premium (kg)' ' Rp 15,600 ' ' Rp 15,600 '\n",
            "  ' Rp 15,600 ' ' Rp 15,600 ' ' Rp 15,600 ']]\n",
            "[['Provinsi' nan 'Semua Provinsi' nan nan nan nan]\n",
            " ['1' 'Cabai Rawit Hijau (kg)' ' Rp 61,550 ' ' Rp 62,950 ' ' Rp 61,250 '\n",
            "  ' Rp 61,150 ' ' Rp 61,450 ']\n",
            " ['Kabupaten/Kota' nan 'Semua Kabupaten/Kota' nan nan nan nan]\n",
            " ['1' 'Telur Ayam Ras Segar\\n (kg)' ' Rp 25,750 ' ' Rp 25,750 '\n",
            "  ' Rp 25,700 ' ' Rp 25,750 ' ' Rp 25,700 ']\n",
            " ['VII' 'Cabai Merah' ' Rp 47,200 ' ' Rp 47,550 ' ' Rp 47,950 '\n",
            "  ' Rp 48,400 ' ' Rp 48,300 ']\n",
            " ['2' 'Cabai Merah Keriting  (kg)' ' Rp 48,800 ' ' Rp 49,000 '\n",
            "  ' Rp 49,300 ' ' Rp 49,850 ' ' Rp 49,850 ']\n",
            " ['V' 'Bawang Merah' ' Rp 34,750 ' ' Rp 34,800 ' ' Rp 35,200 '\n",
            "  ' Rp 35,250 ' ' Rp 35,200 ']\n",
            " ['X' 'Gula Pasir' ' Rp 14,300 ' ' Rp 14,300 ' ' Rp 14,300 '\n",
            "  ' Rp 14,300 ' ' Rp 14,300 ']]\n"
          ],
          "name": "stdout"
        }
      ]
    },
    {
      "cell_type": "code",
      "metadata": {
        "id": "Tqi7eZtWb3rs"
      },
      "source": [
        ""
      ],
      "execution_count": null,
      "outputs": []
    }
  ]
}